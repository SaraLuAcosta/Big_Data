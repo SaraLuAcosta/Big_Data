{
  "nbformat": 4,
  "nbformat_minor": 0,
  "metadata": {
    "colab": {
      "name": "App.ipynb",
      "provenance": []
    },
    "kernelspec": {
      "display_name": "Python 3",
      "name": "python3"
    },
    "language_info": {
      "name": "python"
    }
  },
  "cells": [
    {
      "cell_type": "code",
      "metadata": {
        "colab": {
          "base_uri": "https://localhost:8080/",
          "height": 1000
        },
        "id": "pYDNScVgMtpq",
        "outputId": "c3908f27-6d2e-4eb4-ca70-53a4ddf7b30f"
      },
      "source": [
        "!pip install streamlit\n",
        "! pip install pyngrok\n",
        "!pip install colab-env --upgrade\n",
        "!pip install git+git://github.com/geopandas/geopandas.git --quiet"
      ],
      "execution_count": 1,
      "outputs": [
        {
          "output_type": "stream",
          "text": [
            "Collecting streamlit\n",
            "  Downloading streamlit-0.86.0-py2.py3-none-any.whl (8.0 MB)\n",
            "\u001b[K     |████████████████████████████████| 8.0 MB 4.1 MB/s \n",
            "\u001b[?25hCollecting gitpython!=3.1.19\n",
            "  Downloading GitPython-3.1.18-py3-none-any.whl (170 kB)\n",
            "\u001b[K     |████████████████████████████████| 170 kB 36.7 MB/s \n",
            "\u001b[?25hRequirement already satisfied: protobuf!=3.11,>=3.6.0 in /usr/local/lib/python3.7/dist-packages (from streamlit) (3.17.3)\n",
            "Requirement already satisfied: altair>=3.2.0 in /usr/local/lib/python3.7/dist-packages (from streamlit) (4.1.0)\n",
            "Requirement already satisfied: requests in /usr/local/lib/python3.7/dist-packages (from streamlit) (2.23.0)\n",
            "Collecting validators\n",
            "  Downloading validators-0.18.2-py3-none-any.whl (19 kB)\n",
            "Collecting blinker\n",
            "  Downloading blinker-1.4.tar.gz (111 kB)\n",
            "\u001b[K     |████████████████████████████████| 111 kB 51.0 MB/s \n",
            "\u001b[?25hRequirement already satisfied: attrs in /usr/local/lib/python3.7/dist-packages (from streamlit) (21.2.0)\n",
            "Requirement already satisfied: click<8.0,>=7.0 in /usr/local/lib/python3.7/dist-packages (from streamlit) (7.1.2)\n",
            "Requirement already satisfied: toml in /usr/local/lib/python3.7/dist-packages (from streamlit) (0.10.2)\n",
            "Collecting watchdog\n",
            "  Downloading watchdog-2.1.3-py3-none-manylinux2014_x86_64.whl (75 kB)\n",
            "\u001b[K     |████████████████████████████████| 75 kB 3.2 MB/s \n",
            "\u001b[?25hCollecting base58\n",
            "  Downloading base58-2.1.0-py3-none-any.whl (5.6 kB)\n",
            "Requirement already satisfied: cachetools>=4.0 in /usr/local/lib/python3.7/dist-packages (from streamlit) (4.2.2)\n",
            "Requirement already satisfied: python-dateutil in /usr/local/lib/python3.7/dist-packages (from streamlit) (2.8.1)\n",
            "Requirement already satisfied: pyarrow in /usr/local/lib/python3.7/dist-packages (from streamlit) (3.0.0)\n",
            "Requirement already satisfied: packaging in /usr/local/lib/python3.7/dist-packages (from streamlit) (21.0)\n",
            "Requirement already satisfied: tornado>=5.0 in /usr/local/lib/python3.7/dist-packages (from streamlit) (5.1.1)\n",
            "Requirement already satisfied: pillow>=6.2.0 in /usr/local/lib/python3.7/dist-packages (from streamlit) (7.1.2)\n",
            "Collecting pydeck>=0.1.dev5\n",
            "  Downloading pydeck-0.6.2-py2.py3-none-any.whl (4.2 MB)\n",
            "\u001b[K     |████████████████████████████████| 4.2 MB 40.7 MB/s \n",
            "\u001b[?25hRequirement already satisfied: tzlocal in /usr/local/lib/python3.7/dist-packages (from streamlit) (1.5.1)\n",
            "Requirement already satisfied: numpy in /usr/local/lib/python3.7/dist-packages (from streamlit) (1.19.5)\n",
            "Requirement already satisfied: pandas>=0.21.0 in /usr/local/lib/python3.7/dist-packages (from streamlit) (1.1.5)\n",
            "Requirement already satisfied: astor in /usr/local/lib/python3.7/dist-packages (from streamlit) (0.8.1)\n",
            "Requirement already satisfied: entrypoints in /usr/local/lib/python3.7/dist-packages (from altair>=3.2.0->streamlit) (0.3)\n",
            "Requirement already satisfied: jinja2 in /usr/local/lib/python3.7/dist-packages (from altair>=3.2.0->streamlit) (2.11.3)\n",
            "Requirement already satisfied: jsonschema in /usr/local/lib/python3.7/dist-packages (from altair>=3.2.0->streamlit) (2.6.0)\n",
            "Requirement already satisfied: toolz in /usr/local/lib/python3.7/dist-packages (from altair>=3.2.0->streamlit) (0.11.1)\n",
            "Collecting gitdb<5,>=4.0.1\n",
            "  Downloading gitdb-4.0.7-py3-none-any.whl (63 kB)\n",
            "\u001b[K     |████████████████████████████████| 63 kB 1.5 MB/s \n",
            "\u001b[?25hRequirement already satisfied: typing-extensions>=3.7.4.0 in /usr/local/lib/python3.7/dist-packages (from gitpython!=3.1.19->streamlit) (3.7.4.3)\n",
            "Collecting smmap<5,>=3.0.1\n",
            "  Downloading smmap-4.0.0-py2.py3-none-any.whl (24 kB)\n",
            "Requirement already satisfied: pytz>=2017.2 in /usr/local/lib/python3.7/dist-packages (from pandas>=0.21.0->streamlit) (2018.9)\n",
            "Requirement already satisfied: six>=1.9 in /usr/local/lib/python3.7/dist-packages (from protobuf!=3.11,>=3.6.0->streamlit) (1.15.0)\n",
            "Collecting ipykernel>=5.1.2\n",
            "  Downloading ipykernel-6.0.3-py3-none-any.whl (122 kB)\n",
            "\u001b[K     |████████████████████████████████| 122 kB 46.4 MB/s \n",
            "\u001b[?25hRequirement already satisfied: ipywidgets>=7.0.0 in /usr/local/lib/python3.7/dist-packages (from pydeck>=0.1.dev5->streamlit) (7.6.3)\n",
            "Requirement already satisfied: traitlets>=4.3.2 in /usr/local/lib/python3.7/dist-packages (from pydeck>=0.1.dev5->streamlit) (5.0.5)\n",
            "Collecting importlib-metadata<4\n",
            "  Downloading importlib_metadata-3.10.1-py3-none-any.whl (14 kB)\n",
            "Requirement already satisfied: jupyter-client<7.0 in /usr/local/lib/python3.7/dist-packages (from ipykernel>=5.1.2->pydeck>=0.1.dev5->streamlit) (5.3.5)\n",
            "Collecting ipython<8.0,>=7.23.1\n",
            "  Downloading ipython-7.26.0-py3-none-any.whl (786 kB)\n",
            "\u001b[K     |████████████████████████████████| 786 kB 41.8 MB/s \n",
            "\u001b[?25hRequirement already satisfied: matplotlib-inline<0.2.0,>=0.1.0 in /usr/local/lib/python3.7/dist-packages (from ipykernel>=5.1.2->pydeck>=0.1.dev5->streamlit) (0.1.2)\n",
            "Requirement already satisfied: debugpy<2.0,>=1.0.0 in /usr/local/lib/python3.7/dist-packages (from ipykernel>=5.1.2->pydeck>=0.1.dev5->streamlit) (1.0.0)\n",
            "Requirement already satisfied: zipp>=0.5 in /usr/local/lib/python3.7/dist-packages (from importlib-metadata<4->ipykernel>=5.1.2->pydeck>=0.1.dev5->streamlit) (3.5.0)\n",
            "Collecting prompt-toolkit!=3.0.0,!=3.0.1,<3.1.0,>=2.0.0\n",
            "  Downloading prompt_toolkit-3.0.19-py3-none-any.whl (368 kB)\n",
            "\u001b[K     |████████████████████████████████| 368 kB 44.4 MB/s \n",
            "\u001b[?25hRequirement already satisfied: backcall in /usr/local/lib/python3.7/dist-packages (from ipython<8.0,>=7.23.1->ipykernel>=5.1.2->pydeck>=0.1.dev5->streamlit) (0.2.0)\n",
            "Requirement already satisfied: pygments in /usr/local/lib/python3.7/dist-packages (from ipython<8.0,>=7.23.1->ipykernel>=5.1.2->pydeck>=0.1.dev5->streamlit) (2.6.1)\n",
            "Requirement already satisfied: decorator in /usr/local/lib/python3.7/dist-packages (from ipython<8.0,>=7.23.1->ipykernel>=5.1.2->pydeck>=0.1.dev5->streamlit) (4.4.2)\n",
            "Requirement already satisfied: pexpect>4.3 in /usr/local/lib/python3.7/dist-packages (from ipython<8.0,>=7.23.1->ipykernel>=5.1.2->pydeck>=0.1.dev5->streamlit) (4.8.0)\n",
            "Requirement already satisfied: pickleshare in /usr/local/lib/python3.7/dist-packages (from ipython<8.0,>=7.23.1->ipykernel>=5.1.2->pydeck>=0.1.dev5->streamlit) (0.7.5)\n",
            "Requirement already satisfied: jedi>=0.16 in /usr/local/lib/python3.7/dist-packages (from ipython<8.0,>=7.23.1->ipykernel>=5.1.2->pydeck>=0.1.dev5->streamlit) (0.18.0)\n",
            "Requirement already satisfied: setuptools>=18.5 in /usr/local/lib/python3.7/dist-packages (from ipython<8.0,>=7.23.1->ipykernel>=5.1.2->pydeck>=0.1.dev5->streamlit) (57.2.0)\n",
            "Requirement already satisfied: widgetsnbextension~=3.5.0 in /usr/local/lib/python3.7/dist-packages (from ipywidgets>=7.0.0->pydeck>=0.1.dev5->streamlit) (3.5.1)\n",
            "Requirement already satisfied: jupyterlab-widgets>=1.0.0 in /usr/local/lib/python3.7/dist-packages (from ipywidgets>=7.0.0->pydeck>=0.1.dev5->streamlit) (1.0.0)\n",
            "Requirement already satisfied: nbformat>=4.2.0 in /usr/local/lib/python3.7/dist-packages (from ipywidgets>=7.0.0->pydeck>=0.1.dev5->streamlit) (5.1.3)\n",
            "Requirement already satisfied: parso<0.9.0,>=0.8.0 in /usr/local/lib/python3.7/dist-packages (from jedi>=0.16->ipython<8.0,>=7.23.1->ipykernel>=5.1.2->pydeck>=0.1.dev5->streamlit) (0.8.2)\n",
            "Requirement already satisfied: MarkupSafe>=0.23 in /usr/local/lib/python3.7/dist-packages (from jinja2->altair>=3.2.0->streamlit) (2.0.1)\n",
            "Requirement already satisfied: jupyter-core>=4.6.0 in /usr/local/lib/python3.7/dist-packages (from jupyter-client<7.0->ipykernel>=5.1.2->pydeck>=0.1.dev5->streamlit) (4.7.1)\n",
            "Requirement already satisfied: pyzmq>=13 in /usr/local/lib/python3.7/dist-packages (from jupyter-client<7.0->ipykernel>=5.1.2->pydeck>=0.1.dev5->streamlit) (22.1.0)\n",
            "Requirement already satisfied: ipython-genutils in /usr/local/lib/python3.7/dist-packages (from nbformat>=4.2.0->ipywidgets>=7.0.0->pydeck>=0.1.dev5->streamlit) (0.2.0)\n",
            "Requirement already satisfied: ptyprocess>=0.5 in /usr/local/lib/python3.7/dist-packages (from pexpect>4.3->ipython<8.0,>=7.23.1->ipykernel>=5.1.2->pydeck>=0.1.dev5->streamlit) (0.7.0)\n",
            "Requirement already satisfied: wcwidth in /usr/local/lib/python3.7/dist-packages (from prompt-toolkit!=3.0.0,!=3.0.1,<3.1.0,>=2.0.0->ipython<8.0,>=7.23.1->ipykernel>=5.1.2->pydeck>=0.1.dev5->streamlit) (0.2.5)\n",
            "Requirement already satisfied: notebook>=4.4.1 in /usr/local/lib/python3.7/dist-packages (from widgetsnbextension~=3.5.0->ipywidgets>=7.0.0->pydeck>=0.1.dev5->streamlit) (5.3.1)\n",
            "Requirement already satisfied: nbconvert in /usr/local/lib/python3.7/dist-packages (from notebook>=4.4.1->widgetsnbextension~=3.5.0->ipywidgets>=7.0.0->pydeck>=0.1.dev5->streamlit) (5.6.1)\n",
            "Requirement already satisfied: terminado>=0.8.1 in /usr/local/lib/python3.7/dist-packages (from notebook>=4.4.1->widgetsnbextension~=3.5.0->ipywidgets>=7.0.0->pydeck>=0.1.dev5->streamlit) (0.10.1)\n",
            "Requirement already satisfied: Send2Trash in /usr/local/lib/python3.7/dist-packages (from notebook>=4.4.1->widgetsnbextension~=3.5.0->ipywidgets>=7.0.0->pydeck>=0.1.dev5->streamlit) (1.7.1)\n",
            "Requirement already satisfied: pandocfilters>=1.4.1 in /usr/local/lib/python3.7/dist-packages (from nbconvert->notebook>=4.4.1->widgetsnbextension~=3.5.0->ipywidgets>=7.0.0->pydeck>=0.1.dev5->streamlit) (1.4.3)\n",
            "Requirement already satisfied: defusedxml in /usr/local/lib/python3.7/dist-packages (from nbconvert->notebook>=4.4.1->widgetsnbextension~=3.5.0->ipywidgets>=7.0.0->pydeck>=0.1.dev5->streamlit) (0.7.1)\n",
            "Requirement already satisfied: mistune<2,>=0.8.1 in /usr/local/lib/python3.7/dist-packages (from nbconvert->notebook>=4.4.1->widgetsnbextension~=3.5.0->ipywidgets>=7.0.0->pydeck>=0.1.dev5->streamlit) (0.8.4)\n",
            "Requirement already satisfied: bleach in /usr/local/lib/python3.7/dist-packages (from nbconvert->notebook>=4.4.1->widgetsnbextension~=3.5.0->ipywidgets>=7.0.0->pydeck>=0.1.dev5->streamlit) (3.3.0)\n",
            "Requirement already satisfied: testpath in /usr/local/lib/python3.7/dist-packages (from nbconvert->notebook>=4.4.1->widgetsnbextension~=3.5.0->ipywidgets>=7.0.0->pydeck>=0.1.dev5->streamlit) (0.5.0)\n",
            "Requirement already satisfied: webencodings in /usr/local/lib/python3.7/dist-packages (from bleach->nbconvert->notebook>=4.4.1->widgetsnbextension~=3.5.0->ipywidgets>=7.0.0->pydeck>=0.1.dev5->streamlit) (0.5.1)\n",
            "Requirement already satisfied: pyparsing>=2.0.2 in /usr/local/lib/python3.7/dist-packages (from packaging->streamlit) (2.4.7)\n",
            "Requirement already satisfied: chardet<4,>=3.0.2 in /usr/local/lib/python3.7/dist-packages (from requests->streamlit) (3.0.4)\n",
            "Requirement already satisfied: urllib3!=1.25.0,!=1.25.1,<1.26,>=1.21.1 in /usr/local/lib/python3.7/dist-packages (from requests->streamlit) (1.24.3)\n",
            "Requirement already satisfied: certifi>=2017.4.17 in /usr/local/lib/python3.7/dist-packages (from requests->streamlit) (2021.5.30)\n",
            "Requirement already satisfied: idna<3,>=2.5 in /usr/local/lib/python3.7/dist-packages (from requests->streamlit) (2.10)\n",
            "Building wheels for collected packages: blinker\n",
            "  Building wheel for blinker (setup.py) ... \u001b[?25l\u001b[?25hdone\n",
            "  Created wheel for blinker: filename=blinker-1.4-py3-none-any.whl size=13479 sha256=98a03d6313dab8b33480ab0faa91e5a2cd5ab56026a94fc754063f2da56ae2ce\n",
            "  Stored in directory: /root/.cache/pip/wheels/22/f5/18/df711b66eb25b21325c132757d4314db9ac5e8dabeaf196eab\n",
            "Successfully built blinker\n",
            "Installing collected packages: prompt-toolkit, ipython, importlib-metadata, ipykernel, smmap, gitdb, watchdog, validators, pydeck, gitpython, blinker, base58, streamlit\n",
            "  Attempting uninstall: prompt-toolkit\n",
            "    Found existing installation: prompt-toolkit 1.0.18\n",
            "    Uninstalling prompt-toolkit-1.0.18:\n",
            "      Successfully uninstalled prompt-toolkit-1.0.18\n",
            "  Attempting uninstall: ipython\n",
            "    Found existing installation: ipython 5.5.0\n",
            "    Uninstalling ipython-5.5.0:\n",
            "      Successfully uninstalled ipython-5.5.0\n",
            "  Attempting uninstall: importlib-metadata\n",
            "    Found existing installation: importlib-metadata 4.6.1\n",
            "    Uninstalling importlib-metadata-4.6.1:\n",
            "      Successfully uninstalled importlib-metadata-4.6.1\n",
            "  Attempting uninstall: ipykernel\n",
            "    Found existing installation: ipykernel 4.10.1\n",
            "    Uninstalling ipykernel-4.10.1:\n",
            "      Successfully uninstalled ipykernel-4.10.1\n",
            "\u001b[31mERROR: pip's dependency resolver does not currently take into account all the packages that are installed. This behaviour is the source of the following dependency conflicts.\n",
            "jupyter-console 5.2.0 requires prompt-toolkit<2.0.0,>=1.0.0, but you have prompt-toolkit 3.0.19 which is incompatible.\n",
            "google-colab 1.0.0 requires ipykernel~=4.10, but you have ipykernel 6.0.3 which is incompatible.\n",
            "google-colab 1.0.0 requires ipython~=5.5.0, but you have ipython 7.26.0 which is incompatible.\u001b[0m\n",
            "Successfully installed base58-2.1.0 blinker-1.4 gitdb-4.0.7 gitpython-3.1.18 importlib-metadata-3.10.1 ipykernel-6.0.3 ipython-7.26.0 prompt-toolkit-3.0.19 pydeck-0.6.2 smmap-4.0.0 streamlit-0.86.0 validators-0.18.2 watchdog-2.1.3\n"
          ],
          "name": "stdout"
        },
        {
          "output_type": "display_data",
          "data": {
            "application/vnd.colab-display-data+json": {
              "pip_warning": {
                "packages": [
                  "IPython",
                  "ipykernel",
                  "prompt_toolkit"
                ]
              }
            }
          },
          "metadata": {
            "tags": []
          }
        },
        {
          "output_type": "stream",
          "text": [
            "Collecting pyngrok\n",
            "  Downloading pyngrok-5.0.5.tar.gz (745 kB)\n",
            "\u001b[K     |████████████████████████████████| 745 kB 4.2 MB/s \n",
            "\u001b[?25hRequirement already satisfied: PyYAML in /usr/local/lib/python3.7/dist-packages (from pyngrok) (3.13)\n",
            "Building wheels for collected packages: pyngrok\n",
            "  Building wheel for pyngrok (setup.py) ... \u001b[?25l\u001b[?25hdone\n",
            "  Created wheel for pyngrok: filename=pyngrok-5.0.5-py3-none-any.whl size=19262 sha256=22253dd2e3040bdc2ee2b8a2b2d8fb62132c5440f009bd895b5404b9db63afed\n",
            "  Stored in directory: /root/.cache/pip/wheels/1b/f7/72/35c95a53d15b91dd00df6cf1304d49a31ec5ed6f954c2d4e32\n",
            "Successfully built pyngrok\n",
            "Installing collected packages: pyngrok\n",
            "Successfully installed pyngrok-5.0.5\n",
            "Collecting colab-env\n",
            "  Downloading colab-env-0.2.0.tar.gz (4.7 kB)\n",
            "Collecting python-dotenv<1.0,>=0.10.0\n",
            "  Downloading python_dotenv-0.19.0-py2.py3-none-any.whl (17 kB)\n",
            "Building wheels for collected packages: colab-env\n",
            "  Building wheel for colab-env (setup.py) ... \u001b[?25l\u001b[?25hdone\n",
            "  Created wheel for colab-env: filename=colab_env-0.2.0-py3-none-any.whl size=3837 sha256=2c70bb1fd9d30fb3ccce3aacd4c7ea11e37008b74e86c05c350208acadc83d10\n",
            "  Stored in directory: /root/.cache/pip/wheels/bb/ca/e8/3d25b6abb4ac719ecb9e837bb75f2a9b980430005fb12a9107\n",
            "Successfully built colab-env\n",
            "Installing collected packages: python-dotenv, colab-env\n",
            "Successfully installed colab-env-0.2.0 python-dotenv-0.19.0\n",
            "\u001b[K     |████████████████████████████████| 15.4 MB 1.2 MB/s \n",
            "\u001b[K     |████████████████████████████████| 6.6 MB 26.5 MB/s \n",
            "\u001b[?25h  Building wheel for geopandas (setup.py) ... \u001b[?25l\u001b[?25hdone\n"
          ],
          "name": "stdout"
        }
      ]
    },
    {
      "cell_type": "code",
      "metadata": {
        "colab": {
          "base_uri": "https://localhost:8080/"
        },
        "id": "I73sO1Lp3BA3",
        "outputId": "da00ac1f-434a-40ad-f3bb-4519a571e9c2"
      },
      "source": [
        "from google.colab import drive\n",
        "drive.mount(\"/content/gdrive\")"
      ],
      "execution_count": 2,
      "outputs": [
        {
          "output_type": "stream",
          "text": [
            "Mounted at /content/gdrive\n"
          ],
          "name": "stdout"
        }
      ]
    },
    {
      "cell_type": "code",
      "metadata": {
        "colab": {
          "base_uri": "https://localhost:8080/"
        },
        "id": "lZnOybeI4dKQ",
        "outputId": "df431ec5-57aa-4945-b0e4-03ba40630aef"
      },
      "source": [
        "%%writefile app.py\n",
        "import streamlit as st\n",
        "import pandas as pd\n",
        "import geopandas as gpd\n",
        "import geopy\n",
        "import folium \n",
        "import seaborn as sns\n",
        "import matplotlib.pyplot as plt\n",
        "\n",
        "from sklearn import datasets\n",
        "from sklearn.ensemble import RandomForestRegressor\n",
        "from sklearn.linear_model import HuberRegressor, LinearRegression,BayesianRidge,Ridge\n",
        "from geopy.geocoders import Nominatim\n",
        "from geopandas.tools import geocode\n",
        "from shapely.geometry import Point, Polygon\n",
        "\n",
        "from geopy.geocoders import Nominatim\n",
        "from geopy.extra.rate_limiter import RateLimiter\n",
        "from PIL import Image\n",
        "\n",
        "\n",
        "def main():\n",
        "  #st.title(\"MODELO\")\n",
        "  menu = [\"DEMO\",'Reto y Metodología utilizada','Sobre nosotras']\n",
        "  imageNacho = Image.open('logo.png')\n",
        "  st.sidebar.image(imageNacho)\n",
        "  choice = st.sidebar.radio(\"Menu\",menu)\n",
        "  if choice =='DEMO':\n",
        "    st.title(\"\"\"**APLICACIÓN DE PREDICCIÓN DE PRECIO DE LA VIVIENDA NO HORIZONTAL EN BOGOTÁ**\"\"\")\n",
        "    imageBogota = Image.open('Bogota.jpg')\n",
        "    st.image(imageBogota)\n",
        "    st.sidebar.title(\"\"\"**RETO**\"\"\")\n",
        "    st.sidebar.write(\"* Reto: crear un algoritmo que pueda valorar inmuebles EN BOGOTÁ que no hagan parte de una propiedad horizontal.\")\n",
        "\n",
        "  \n",
        "  \n",
        "    st.write('Ya sea que desee comprar, vender, refinanciar o incluso remodelar una casa,  es necesario conocer el precio de su vivienda para tomar una decisión más informada.Por esto se crea una interfaz fácil de usar la cual  ofrece un  margen de error bajo para el precio de hogares en Bogotá, tomando en consideración estimaciones del catastro de Bogotá que incluye información relevante del sector(cercania a parques, centros comerciales, escuelas, zonas industriales, etc) que pueden inclementar o devaluar el precio de una vivienda.')\n",
        "    st.write('* Ingrese los datos de su vivienda,  responda 1 si la respuesta es afirmativa y 0 en otro caso')\n",
        "\n",
        "    DatosFinales = pd.read_csv('/content/gdrive/MyDrive/shp/DatosFinales.csv')\n",
        "    X = pd.DataFrame(DatosFinales.iloc[:,2:27])\n",
        "    Y = pd.DataFrame(DatosFinales, columns=[\"y\"])\n",
        "   \n",
        "    \n",
        "    # Sidebar\n",
        "    # Header of Specify Input Parameters\n",
        "   # st.sidebar.header('Paarámetros de entrada')\n",
        "    col1,col2=st.beta_columns(2)\n",
        "\n",
        "    def user_input_features():\n",
        "      area = st.slider('¿Cuál es el área de tu inmueble en metros cuadrados?',min_value=65,step=1,format='%d',max_value=500)\n",
        "      ascensor = col1.radio('¿Cuenta con ascensor?',('1','0'))\n",
        "      balcon = col2.radio('¿Cuenta con balcon?',('1','0'))\n",
        "      conjuntocerrado = col1.radio('¿El inmueble se enecuentra en un conjunto cerrado?',('1','0'))\n",
        "      cuartoservicio = col2.radio('¿El inmueble cuenta con cuarto de servicio?',('1','0'))\n",
        "      deposito =col1.radio('¿El inmueble cuenta con deposito?',('1','0'))\n",
        "      estudio = col2.radio('¿El inmueble cuenta con estudio?',('1','0'))\n",
        "      garajes = col1.radio('¿El inmueble cuenta con garaje?',('1','0'))\n",
        "      gimnasio= col2.radio('¿El inmueble cuenta con gimnasio?',('1','0'))\n",
        "      halldealcobas =  col1.radio('¿El inmueble cuenta con vestibulo?',('1','0'))\n",
        "      parqueaderovisitantes = col2.radio('¿El inmueble cuenta con parqueadero para visitantes?',('1','0'))\n",
        "      piscina =  col1.radio('¿El inmueble cuenta con piscina?',('1','0'))\n",
        "      vigilancia = col2.radio('¿El inmueble cuenta con vigilancia?',('1','0'))\n",
        "      porteria = col1.radio('¿El inmueble cuenta con porteria?',('1','0'))\n",
        "      remodelado = col2.radio('¿El inmueble esta remodelado?',('1','0'))\n",
        "      terraza = col1.radio('¿El inmueble cuenta con terraza?',('1','0'))\n",
        "      piso = col2.selectbox('¿Con cuentos pisos cuenta el inmueble?',('1','2','3','4','5','6'))\n",
        "      estrato =col1.selectbox('¿Que estrato es?',('1','2','3','4','5','6'))\n",
        "      habitaciones = col2.selectbox('¿Con cuantas habitaciones cuenta el inmueble?',('1','2','3','4','5','6'))\n",
        "      valoradministracion = col1.number_input('¿Cuál es el valor de administracion? , ejemplo: $500.000')\n",
        "      valorventa = col2.number_input('¿Cual cree es el valor total de su inmueble?' )\n",
        "      banos = col1.number_input('¿Con cuantos baños cuenta el inmueble ?',min_value=0,step=1,format='%d',max_value=6)\n",
        "      banoservicio = col2.number_input('¿Con cuantos baños de servicio cuenta el inmueble ?',min_value=0,step=1,format='%d',max_value=3)\n",
        "\n",
        "      country = st.text_input(\"Pais\", \"Colombia\")\n",
        "      city = st.text_input(\"Ciudad\", \"Bogota\")\n",
        "      province = st.text_input(\"Barrio\", \"Kennedy\")\n",
        "      street = st.text_input(\"Direccián\", \"Transversal 78  # 41-48\")\n",
        "      geolocator = Nominatim(user_agent=\"app\")\n",
        "      geocode = RateLimiter(geolocator.geocode, min_delay_seconds=1)\n",
        "      location = geolocator.geocode(street+\", \"+city+\", \"+province+\", \"+country)\n",
        "    \n",
        "      latitud = location.latitude\n",
        "      longitud = location.longitude\n",
        "      map_data = pd.DataFrame({'lat': [latitud], 'lon': [longitud]})\n",
        "      st.map(map_data)\n",
        "    \n",
        "      data = {'area': area,\n",
        "              'ascensor': ascensor,\n",
        "              'balcon': balcon,\n",
        "              'banos': banos,\n",
        "              'banoservicio':banoservicio,\n",
        "              'conjuntocerrado':conjuntocerrado,\n",
        "              'cuartoservicio':cuartoservicio,\n",
        "              'deposito':deposito,\n",
        "              'estrato':estrato,\n",
        "              'estudio':estudio,\n",
        "              'garajes':garajes,\n",
        "              'gimnasio':gimnasio,\n",
        "              'habitaciones':habitaciones,\n",
        "              'halldealcobas':halldealcobas,\n",
        "              'parqueaderovisitantes':parqueaderovisitantes,\n",
        "              'piscina':piscina,\n",
        "              'piso':piso,\n",
        "              'porteria':porteria,\n",
        "              'remodelado':remodelado,\n",
        "              'terraza':terraza,\n",
        "              'vigilancia':vigilancia,\n",
        "              'valoradministracion':valoradministracion,\n",
        "              'valorventa':valorventa,\n",
        "              'latitud':latitud,\n",
        "              'longitud':longitud}\n",
        "\n",
        "      features = pd.DataFrame(data, index=[0])\n",
        "      return features\n",
        "\n",
        "    df = user_input_features()\n",
        "\n",
        "    st.header('Parámetros de entrada.')\n",
        "    st.write(df)\n",
        "\n",
        "    model = RandomForestRegressor()\n",
        "    model.fit(X, Y)\n",
        "    #Predicciones\n",
        "    prediction = model.predict(df)\n",
        "\n",
        "    st.header('El valor por metro cuadrado de tu inmueble es: ')\n",
        "    st.write(prediction)\n",
        "    \n",
        "#####################################################################################################################################\n",
        "  elif choice =='Reto y Metodología utilizada':\n",
        "    st.title(\"\"\"**RETO**\"\"\")\n",
        "    st.write(\"* Reto: crear un algoritmo que pueda valorar inmuebles EN BOGOTÁ que no hagan parte de una propiedad horizontal.\")\n",
        "    st.write('Todo surge de la necesitad de la compañia Habi, única plataforma digital en Colombia que compra inmuebles en 10* días, los remodela y los vuelve a sacar a la venta a un precio competitivo. Para hacerlo, esta proptech recopila desde diversas fuentes toda la oferta vigente de inmuebles en venta, la ordena y la clasifica para posteriormente compararla entre sí y establecer precios. Los expertos de Habi perfeccionan todos los días el algoritmo con el que identifican el valor de los inmuebles pertenecientes a una propiedad horizontal. Sin embargo, los inmuebles que NO hacen parte de una propiedad horizontal aún representan un reto, ya que su valorización depende de determinantes que no considera correctamente su algoritmo actual. Es po esto que  Habi junto con Change lanzarón un reto denominado ** El algoritmo es correcto** .')\n",
        "\n",
        "  elif choice =='Sobre nosotras':\n",
        "    st.title(\"\"\" **EQUIPO**\"\"\")\n",
        "    col1, col2 = st.beta_columns(2)\n",
        "    \n",
        "    col1.markdown('### Sara Lucia Acosta Pinzón')\n",
        "    imageSara = Image.open('Sara_Acosta.jpeg')\n",
        "    col1.image(imageSara)\n",
        "    col1.markdown('Estudiante de Maestria en Estadística  ** Universidad Nacional de Colombia** slacostap@unal.edu.co')\n",
        "    col1.markdown( '[LinkedIn](https://www.linkedin.com/in/saraluacosta/)')\n",
        "    st.subheader(\"Otro titulo\")\n",
        "\n",
        "    col2.markdown('### Valeria Bejarano Salcedo')\n",
        "    imageValeria = Image.open('Valeria_Bejarano.png')\n",
        "    col2.image(imageValeria)\n",
        "    col2.markdown('Estudiante de Maestria en Estadística  ** Universidad Nacional de Colombia** vbejaranos@unal.edu.co')\n",
        "    col2.markdown( '[LinkedIn](https://www.linkedin.com/in/valeria-bejarano-salcedo-a31600176/)')\n",
        "\n",
        "if __name__ == '__main__':\n",
        "\tmain()"
      ],
      "execution_count": 11,
      "outputs": [
        {
          "output_type": "stream",
          "text": [
            "Overwriting app.py\n"
          ],
          "name": "stdout"
        }
      ]
    },
    {
      "cell_type": "code",
      "metadata": {
        "colab": {
          "base_uri": "https://localhost:8080/"
        },
        "id": "hh8R-h-OMx7V",
        "outputId": "f89169e2-eb9b-4c52-bd29-057354e77228"
      },
      "source": [
        "! ngrok authtoken 1vVf8QwOLu8NpideEvK907dbPm8_3sgEvmkQ4C8x2Jdu3aipd"
      ],
      "execution_count": 4,
      "outputs": [
        {
          "output_type": "stream",
          "text": [
            "Authtoken saved to configuration file: /root/.ngrok2/ngrok.yml\n"
          ],
          "name": "stdout"
        }
      ]
    },
    {
      "cell_type": "code",
      "metadata": {
        "id": "UzGaEx4xMx91"
      },
      "source": [
        "from pyngrok import ngrok"
      ],
      "execution_count": 5,
      "outputs": []
    },
    {
      "cell_type": "code",
      "metadata": {
        "id": "yCe4zxzPMyAU"
      },
      "source": [
        "!streamlit run --server.port 80 app.py &>/dev/null &"
      ],
      "execution_count": 6,
      "outputs": []
    },
    {
      "cell_type": "code",
      "metadata": {
        "id": "8T8r_g_WMyC8"
      },
      "source": [
        "public_url = ngrok.connect(port='80')"
      ],
      "execution_count": 7,
      "outputs": []
    },
    {
      "cell_type": "code",
      "metadata": {
        "id": "kQQBonSMbxZg",
        "colab": {
          "base_uri": "https://localhost:8080/"
        },
        "outputId": "e09892ed-ffca-4539-e7a0-fb581d39f4d7"
      },
      "source": [
        "public_url"
      ],
      "execution_count": 8,
      "outputs": [
        {
          "output_type": "execute_result",
          "data": {
            "text/plain": [
              "<NgrokTunnel: \"http://c7a6bd40626a.ngrok.io\" -> \"http://localhost:80\">"
            ]
          },
          "metadata": {
            "tags": []
          },
          "execution_count": 8
        }
      ]
    },
    {
      "cell_type": "code",
      "metadata": {
        "id": "NY4A3-ZVZFnn"
      },
      "source": [
        "ngrok.kill()"
      ],
      "execution_count": null,
      "outputs": []
    }
  ]
}