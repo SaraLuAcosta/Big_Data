{
 "cells": [
  {
   "cell_type": "markdown",
   "metadata": {},
   "source": [
    "# Regresión lineal. "
   ]
  },
  {
   "cell_type": "markdown",
   "metadata": {},
   "source": [
    "* 1. Introducción.\n",
    "* 2. Breve historia.\n",
    "* 3. Planteamiento del algortimo.\n",
    "* 4. Ejemplo\n",
    "* 5. Conclusiones."
   ]
  },
  {
   "cell_type": "markdown",
   "metadata": {},
   "source": [
    "## Introducción\n",
    "En la mayoría de las investigaciones  sin importar el campo del conocimiento en las que se desarrollen es fundamental determinar algún tipo de relación de dependencia entre las variables con el fin de hacer predicciones o pronósticos de eventos futuros de acuerdo con el comportamiento de ellas. \n",
    " pero  ¿Cómo se hace esto?\n",
    " \n",
    " Pongamos primero ejemplos para entender mejor los contextos: \n",
    "\n",
    "* Existen un gran número de estudios en administración donde se demuestra la relación de dependencia entre los gastos en publicidad y el volumen     de ventas de cierto producto;\n",
    "* En economía, se ha demostrado la relación entre la demanda u oferta de cierto producto con respecto al número de artículos que se han colocado en el mercado; y así mismo, la relación entre la variación en el precio de ese producto y la cantidad de unidades producidas.\n",
    "* En medicina, se han efectuado estudios de la reducción del peso de una persona en términos del número de semanas que ha seguido una dieta específica; o la cantidad de medicamento absorbido por el organismo en función del tiempo.\n",
    "* Los ingenieros civiles saben que el concreto de alta calidad tiene unos componentes específicos en las concentraciones adecuadas y que la resistencia del material disminuye conforme ese concreto se mezcle con otros elementos; pero el concreto más puro aumenta muchísimo los costos de la obra, entonces al ingeniero le interesará hacer un análisis y encontrar la relación entre porcentaje de pureza del concreto y su resistencia y también la relación entre porcentaje de pureza del concreto y costo de la obra para determinar el nivel óptimo de resistencia que exige la obra sin exceder el presupuesto y sin bajar la calidad.\n",
    "\n",
    "Muchos profesionales, confían en su intuición para juzgar como se relacionan dos variables. Debido a ello, hacen\n",
    "pronósticos a tientas e incluso temerarios; sin embargo, si dichos profesionales tienen la posibilidad de tomar datos y utilizar un procedimiento\n",
    "estadístico de análisis para determinar cómo lo conocido se relaciona con el evento futuro, podrían ayudar considerablemente en el mejoramiento\n",
    "de los procesos que administran o en la solución eficaz de los problemas que se les presentan.\n",
    "El procedimiento estadístico que se utiliza para este fin se conoce como *análisis de regresión* que permite establecer la relación funcional o\n",
    "ecuación matemática que relaciona las variables, así como la fuerza de esa relación.\n",
    "\n",
    "\n",
    "La información anterior fue tomarda y puede ser complementada a partir del siguiente enlace: [Aplicación de la regresión lineal a un problema de pobreza ](http://www.zeuseduca.org/zeuseduca.org/fernando.infestas/Mag%C3%ADster%20en%20Econom%C3%ADa%20y%20Finanzas/Econometr%C3%ADa%C2%A0(MEF-113-115)/Ramoni%C2%A0Perazzi,%C2%A0Josefa/Semana%204/Ejemplo%20Aplicaci%C3%B3n%20Regresi%C3%B3n.pdf)"
   ]
  },
  {
   "cell_type": "markdown",
   "metadata": {},
   "source": [
    "## Algunas notas historicas.\n",
    "\n",
    "* La formación de las nociones de correlación y regresión proviene, en gran parte, de estudios realizados en Biología, Biometría y Eugenesia. El primer autor que se interesa en el tema fue LambertAdolphe-Jacques Quetelet (1796-1874), conocido como Adolphe Quetelet, nacido en  Bélgica quien obtuvo su doctorado en Matemáticas con una tesis sobre secciones cónicas. Sus aportaciones sobre la correlación y regresión se originan desde sus estudios sobre el hombre medio, estimando empíricamente las medias y desviaciones típicas de medidas antropométricas que, suponía, dependen de varias variables independientes tales como el sexo, edad, profesión o nivel de educación. \n",
    "\n",
    "<img src=\"Image_1.png\">\n",
    "\n",
    "* Las ideas modernas sobre regresión se originan en los trabajo de Legendre y Gauss, sobre el método de mínimos cuadrados, para ajustar los datos sobre las órbitas de cuerpos celestes. El primer estudio documentado sobre el método de mínimos cuadrados, de donde deriva la idea de regresión, es debido a Legendre (1752-1833) en 1805. Esta técnica de optimización intenta encontrar la función (dentro de una familia) que mejor se ajusta a los datos bivariantes, de acuerdo con el criterio de mínimo error cuadrático, y siempre que los datos cumplan algunas condiciones (como independencia). \n",
    "\n",
    "<img src=\"Imge_2.png\">\n",
    "\n",
    "\n",
    "* Se conocían las ecuaciones funcionales de estas órbitas, pero los errores de medida hacía que los cálculos fuesen aproximados y se ajustaban ciertas familias de funciones, usando la teoría de errores (y la distribución normal para describirlos). En 1829 Gauss fue capaz de establecer la razón por la cual este procedimiento es muy adecuado desde el punto de vista estadístico, mediante lo que hoy se conoce como teorema de Gauss-Markov, que muestra que los estimadores obtenidos con este método son insesgados y no se requiere una distribución específica para los datos que se ajustan. El impulso posterior lo dan los trabajos citados de Galton y Pearson sobre la herencia. Yule la utiliza para el estudio de fenómenos sociales, como las causas de pobreza alrededor de 1899. \n",
    "\n",
    "\n",
    "La información anterior fue tomarda y puede ser complementada a partir del siguiente enlace: [Algunas notas históricas sobre la correlación y regresión y su uso en el aula  ](https://core.ac.uk/download/pdf/20343739.pdf)."
   ]
  },
  {
   "cell_type": "markdown",
   "metadata": {},
   "source": [
    "## Plantamiento del problema.\n",
    "La regresión lineal  permite generar un modelo lineal en el que el valor de la variable respuesta (Y)  se determina a partir de un conjunto de variables independientes llamadas predictores (X1, X2, X3…).  Los modelos de regresión  pueden emplearse para predecir el valor de la variable dependiente o para evaluar la influencia que tienen los predictores sobre ella (esto último se debe que analizar con cautela para no malinterpretar causa-efecto).\n",
    "\n",
    "Maatemáticamente los modelos lineales  siguen la siguiente ecuación:\n",
    "$$ Y_i = \\beta_0 + \\beta_1X_{1i} + \\beta_2X_{2i} + ... + \\beta_nX_{ni} + e_i $$ \n",
    "*  $\\beta_0$  es la ordenada en el origen, el valor de la variable dependiente Y cuando todos los predictores son nulos.\n",
    "* $\\beta_i $ es el efecto promedio que tiene el incremento en una unidad de la variable predictora $X_i$ sobre la variable dependiente Y, manteniéndose constantes el resto de variables. \n",
    "* $e_i$ es el residuo o error, la diferencia entre el valor observado y el estimado por el modelo.\n",
    "\n",
    "Es importante tener en cuenta que la magnitud de cada coeficiente  de regresión depende de las unidades en las que se mida la variable predictora a la que corresponde, por lo que su magnitud no está asociada con la importancia de cada predictor. Para poder determinar qué impacto tienen en el modelo cada una de las variables, se emplean los coeficientes parciales estandarizados.\n",
    "\n",
    "El método empleado con más frecuencia es el ajuste por mínimos cuadrados ordinarios (OLS), que identifica como mejor modelo la recta (o plano si es regresión múltiple) que minimiza la suma de las desviaciones verticales entre cada dato de entrenamiento y la recta, elevadas al cuadrado.En la imagen podemos observar un modelo de regresión lineal y sus errores: la línea gris representa la recta de regresión (el modelo) y los segmentos rojos el error entre esta y cada observación.\n",
    "\n",
    "<img src=data:image/png;base64,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> \n"
   ]
  },
  {
   "cell_type": "markdown",
   "metadata": {},
   "source": [
    "## Interpretación del modelo\n",
    "Los principales elementos que hay que interpretar en un modelo de regresión lineal son los coeficientes de los predictores:\n",
    "\n",
    "* $\\beta_0$  es la ordenada en el origen o interceptp, se corresponde con el valor esperado de la variable respuesta  y  cuando todos los predictores son cero.\n",
    "\n",
    "* $\\beta_j$  los coeficientes de regresión parcial de cada predictor indican el cambio promedio esperado de la variable respuesta   al incrementar en una unidad de la variable predictora  $x_j$ , manteniéndose constantes el resto de variables.\n",
    "\n",
    "Para poder determinar qué impacto tienen en el modelo cada una de las variables, se emplean los coeficientes parciales estandarizados, que se obtienen al estandarizar (sustraer la media y dividir entre la desviación estándar) las variables predictoras previo ajuste del modelo. En este caso,  $\\beta_0$  se corresponde con el valor esperado de la variable respuesta cuando todos los predictores se encuentran en su valor promedio, y  $\\beta_j$  el cambio promedio esperado de la variable respuesta al incrementar en una desviación estándar la variable predictora  $x_j$ , manteniéndose constantes el resto de variables.\n",
    "\n",
    "Si bien los coeficientes de regresión suelen ser el primer objetivo de la interpretación de un modelo lineal, existen muchos otros aspectos (significancia del modelo en su conjunto, significancia de los predictores, condición de normalidad...). Estos últimos suelen ser tratados con poca detalle cuando el único objetivo del modelo es realizar predicciones, sin embargo, son muy relevantes si se quiere realizar inferencia, es decir, explicar las relaciones entre los predictores y la variable respuesta. \n",
    "\n",
    "\n",
    "## Validación del modelo\n",
    "\n",
    "\n",
    "Una vez seleccionado el mejor modelo que se puede crear con los datos disponibles, se tiene que comprobar su capacidad prediciendo nuevas observaciones que no se hayan empleado para entrenarlo, de este modo se verifica si el modelo se puede generalizar. Una estrategia comúnmente empleada es dividir aleatoriamente los datos en dos grupos, ajustar el modelo con el primer grupo y estimar la precisión de las predicciones con el segundo.\n",
    "\n",
    "El tamaño adecuado de las particiones depende en gran medida de la cantidad de datos disponibles y la seguridad que se necesite en la estimación del error, 80%-20% suele dar buenos resultados.\n",
    "\n",
    "\n",
    "## Condiciones para la regresión lineal\n",
    "\n",
    "\n",
    "Para que un modelo de regresión lineal por mínimos cuadrados, y las conclusiones derivadas de él, sean completamente válidas, se deben verificar que se cumplen las asunciones sobre las que se basa su desarrollo matemático. En la práctica, rara vez se cumplen, o se puede demostrar que se cumplen todas, sin embargo esto no significa que el modelo no sea útil. Lo importante es ser consciente de ellas y del impacto que esto tiene en las conclusiones que se extraen del modelo.\n",
    "\n",
    "  1.  **No colinealidad o multicolinealidad** : En los modelos lineales múltiples, los predictores deben ser independientes, no debe de haber colinealidad entre ellos. La colinealidad ocurre cuando un predictor está linealmente relacionado con uno o varios de los otros predictores del modelo. Como consecuencia de la colinealidad, no se puede identificar de forma precisa el efecto individual que tiene cada predictor sobre la variable respuesta, lo que se traduce en un incremento de la varianza de los coeficientes de regresión estimados hasta el punto de que resulta imposible establecer su significancia estadística. Además, pequeños cambios en los datos, provocan grandes cambios en las estimaciones de los coeficientes. Si bien la colinealidad propiamente dicha existe solo si el coeficiente de correlación simple o múltiple entre predictores es 1, cosa que raramente ocurre en la realidad, es frecuente encontrar la llamada casi-colinealidad o multicolinealidad no perfecta.\n",
    "  \n",
    "  2. **Relación lineal entre los predictores numéricos y la variable respuesta:** Cada predictor numérico tiene que estar linealmente relacionado con la variable respuesta  y  mientras los demás predictores se mantienen constantes, de lo contrario no se deben introducir en el modelo. La forma más recomendable de comprobarlo es representando los residuos del modelo frente a cada uno de los predictores. Si la relación es lineal, los residuos se distribuyen de forma aleatoria en torno a cero. Estos análisis son solo aproximados, ya que no hay forma de saber si realmente la relación es lineal cuando el resto de predictores se mantienen constantes.\n",
    "\n",
    "\n",
    "  3. **Distribución normal de la variable respuesta:**  La variable respuesta se tiene que distribuir de forma normal. Para comprobarlo se recurre a histogramas, a los cuantiles normales o a test de hipótesis de normalidad.\n",
    "  4. **Varianza constante de la variable respuesta (homocedasticidad)** La varianza de la variable respuesta debe ser constante en todo el rango de los predictores. Para comprobarlo suelen representarse los residuos del modelo frente a cada predictor. Si la varianza es constante, se distribuyen de forma aleatoria manteniendo una misma dispersión y sin ningún patrón específico. Una distribución cónica es un claro identificador de falta de homocedasticidad. También se puede recurrir a contrastes de homocedasticidad como el test de Breusch-Pagan.\n",
    "  \n",
    "  5. **No autocorrelación (Independencia)** os valores de cada observación son independientes de los otros. Esto es especialmente importante de comprobar cuando se trabaja con mediciones temporales. Se recomienda representar los residuos ordenados acorde al tiempo de registro de las observaciones, si existe un cierto patrón hay indicios de autocorrelación. También se puede emplear el test de hipótesis de Durbin-Watson.\n",
    "\n",
    "\n",
    "  6.  **Atípicos, con alto leverage o influyentes** Es importante identificar observaciones que sean atípicas o que puedan estar influenciando al modelo. La forma más fácil de detectarlas es a través de los residuos (ver más detalles adelante).\n",
    "\n",
    "  7. **Tamaño de la muestra** No se trata de una condición de por sí pero, si no se dispone de suficientes observaciones, predictores que no son realmente influyentes podrían parecerlo. Un recomendación frecuente es que el número de observaciones sea como mínimo entre 10 y 20 veces el número de predictores del modelo.\n",
    "\n",
    " 8. **Parsimonia** Este término hace referencia a que, el mejor modelo, es aquel capaz de explicar con mayor precisión la variabilidad observada en la variable respuesta empleando el menor número de predictores, por lo tanto, con menos asunciones.\n",
    "\n",
    "La gran mayoría de condiciones se verifican utilizando los residuos, por lo tanto, se suele generar primero el modelo y posteriormente validar las condiciones. De hecho, el ajuste de un modelo debe verse como un proceso iterativo en el que se ajusta el modelo, se evalúan sus residuos y se mejora. Así hasta llegar a un modelo óptimo.\n"
   ]
  },
  {
   "cell_type": "markdown",
   "metadata": {},
   "source": [
    "# Ejemplo práctico.\n",
    "\n",
    "Supóngase que un entrenador deportivo de un equipo de beisbol quiere saber si existe una relación entre el número de veces que batea un deportista y  el número de runs que consigue en un partido para diferentes equipos. Paara de esta forma mejorar su rendimiento y establecer dormas que podrían  predecir el resultado del partido"
   ]
  },
  {
   "cell_type": "code",
   "execution_count": 2,
   "metadata": {},
   "outputs": [],
   "source": [
    "# Tratamiento de datos\n",
    "# ==============================================================================\n",
    "import pandas as pd         #Manejo de la estructura de los datos. \n",
    "import numpy as np          #Calculo , análisis de datos \n",
    "\n",
    "# Gráficos - Se utilizara la libreria marplotlob especializada en la creación de gráficos en dos dimensiones.\n",
    "# ==============================================================================\n",
    "import matplotlib.pyplot as plt\n",
    "from matplotlib import style\n",
    "import seaborn as sns\n",
    "\n",
    "# Preprocesado y modelado\n",
    "# ==============================================================================\n",
    "from scipy.stats import pearsonr\n",
    "from sklearn.linear_model import LinearRegression\n",
    "from sklearn.model_selection import train_test_split\n",
    "from sklearn.metrics import r2_score\n",
    "from sklearn.metrics import mean_squared_error\n",
    "import statsmodels.api as sm\n",
    "import statsmodels.formula.api as smf\n",
    "\n",
    "# Configuración matplotlib\n",
    "# ==============================================================================\n",
    "plt.rcParams['image.cmap'] = \"bwr\"\n",
    "#plt.rcParams['figure.dpi'] = \"100\"\n",
    "plt.rcParams['savefig.bbox'] = \"tight\"\n",
    "style.use('ggplot') or plt.style.use('ggplot')\n",
    "\n",
    "# Configuración warnings\n",
    "# ==============================================================================\n",
    "import warnings\n",
    "warnings.filterwarnings('ignore')"
   ]
  },
  {
   "cell_type": "code",
   "execution_count": 3,
   "metadata": {},
   "outputs": [
    {
     "data": {
      "text/html": [
       "<div>\n",
       "<style scoped>\n",
       "    .dataframe tbody tr th:only-of-type {\n",
       "        vertical-align: middle;\n",
       "    }\n",
       "\n",
       "    .dataframe tbody tr th {\n",
       "        vertical-align: top;\n",
       "    }\n",
       "\n",
       "    .dataframe thead th {\n",
       "        text-align: right;\n",
       "    }\n",
       "</style>\n",
       "<table border=\"1\" class=\"dataframe\">\n",
       "  <thead>\n",
       "    <tr style=\"text-align: right;\">\n",
       "      <th></th>\n",
       "      <th>equipos</th>\n",
       "      <th>bateos</th>\n",
       "      <th>runs</th>\n",
       "    </tr>\n",
       "  </thead>\n",
       "  <tbody>\n",
       "    <tr>\n",
       "      <th>0</th>\n",
       "      <td>Texas</td>\n",
       "      <td>5659</td>\n",
       "      <td>855</td>\n",
       "    </tr>\n",
       "    <tr>\n",
       "      <th>1</th>\n",
       "      <td>Boston</td>\n",
       "      <td>5710</td>\n",
       "      <td>875</td>\n",
       "    </tr>\n",
       "    <tr>\n",
       "      <th>2</th>\n",
       "      <td>Detroit</td>\n",
       "      <td>5563</td>\n",
       "      <td>787</td>\n",
       "    </tr>\n",
       "    <tr>\n",
       "      <th>3</th>\n",
       "      <td>Kansas</td>\n",
       "      <td>5672</td>\n",
       "      <td>730</td>\n",
       "    </tr>\n",
       "    <tr>\n",
       "      <th>4</th>\n",
       "      <td>St.</td>\n",
       "      <td>5532</td>\n",
       "      <td>762</td>\n",
       "    </tr>\n",
       "    <tr>\n",
       "      <th>5</th>\n",
       "      <td>New_S.</td>\n",
       "      <td>5600</td>\n",
       "      <td>718</td>\n",
       "    </tr>\n",
       "    <tr>\n",
       "      <th>6</th>\n",
       "      <td>New_Y.</td>\n",
       "      <td>5518</td>\n",
       "      <td>867</td>\n",
       "    </tr>\n",
       "    <tr>\n",
       "      <th>7</th>\n",
       "      <td>Milwaukee</td>\n",
       "      <td>5447</td>\n",
       "      <td>721</td>\n",
       "    </tr>\n",
       "    <tr>\n",
       "      <th>8</th>\n",
       "      <td>Colorado</td>\n",
       "      <td>5544</td>\n",
       "      <td>735</td>\n",
       "    </tr>\n",
       "    <tr>\n",
       "      <th>9</th>\n",
       "      <td>Houston</td>\n",
       "      <td>5598</td>\n",
       "      <td>615</td>\n",
       "    </tr>\n",
       "  </tbody>\n",
       "</table>\n",
       "</div>"
      ],
      "text/plain": [
       "     equipos  bateos  runs\n",
       "0      Texas    5659   855\n",
       "1     Boston    5710   875\n",
       "2    Detroit    5563   787\n",
       "3     Kansas    5672   730\n",
       "4        St.    5532   762\n",
       "5     New_S.    5600   718\n",
       "6     New_Y.    5518   867\n",
       "7  Milwaukee    5447   721\n",
       "8   Colorado    5544   735\n",
       "9    Houston    5598   615"
      ]
     },
     "execution_count": 3,
     "metadata": {},
     "output_type": "execute_result"
    }
   ],
   "source": [
    "# Datos\n",
    "# ==============================================================================\n",
    "equipos = [\"Texas\",\"Boston\",\"Detroit\",\"Kansas\",\"St.\",\"New_S.\",\"New_Y.\",\n",
    "           \"Milwaukee\",\"Colorado\",\"Houston\",\"Baltimore\",\"Los_An.\",\"Chicago\",\n",
    "           \"Cincinnati\",\"Los_P.\",\"Philadelphia\",\"Chicago\",\"Cleveland\",\"Arizona\",\n",
    "           \"Toronto\",\"Minnesota\",\"Florida\",\"Pittsburgh\",\"Oakland\",\"Tampa\",\n",
    "           \"Atlanta\",\"Washington\",\"San.F\",\"San.I\",\"Seattle\"]\n",
    "\n",
    "bateos = [5659,  5710, 5563, 5672, 5532, 5600, 5518, 5447, 5544, 5598,\n",
    "          5585, 5436, 5549, 5612, 5513, 5579, 5502, 5509, 5421, 5559,\n",
    "          5487, 5508, 5421, 5452, 5436, 5528, 5441, 5486, 5417, 5421]\n",
    "\n",
    "runs = [855, 875, 787, 730, 762, 718, 867, 721, 735, 615, 708, 644, 654, 735,\n",
    "        667, 713, 654, 704, 731, 743, 619, 625, 610, 645, 707, 641, 624, 570,\n",
    "        593, 556]\n",
    "\n",
    "datos = pd.DataFrame({'equipos':equipos,  'bateos': bateos, 'runs': runs})\n",
    "datos.head(10)"
   ]
  },
  {
   "cell_type": "markdown",
   "metadata": {},
   "source": [
    "Vamos a ver como es el comportamiento de los datos para ver intuitivamente si eziste una relación entre ellas.  "
   ]
  },
  {
   "cell_type": "code",
   "execution_count": 4,
   "metadata": {},
   "outputs": [
    {
     "data": {
      "image/png": "[encoded data removed]",
      "text/plain": [
       "<Figure size 720x360 with 1 Axes>"
      ]
     },
     "metadata": {},
     "output_type": "display_data"
    }
   ],
   "source": [
    "# Gráfico\n",
    "\n",
    "fig, ax = plt.subplots(figsize=(10, 5))\n",
    "datos.plot(  x    = 'bateos',    y    = 'runs',     c    = 'firebrick',     kind = \"scatter\",     ax   = ax)\n",
    "ax.set_title('Distribución de bateos y runs');"
   ]
  },
  {
   "cell_type": "markdown",
   "metadata": {},
   "source": [
    "El gráfic nos muestran una posible  relación lineal,  si ademas le calculamos el coeficiente de correlación de pearson  vemos que tendra un valor de **r= 0.61** y va a ser significativa **p-value = 0.000339** lo cual tiene sentido por lo que podemos dearrollar un modelo de regresión lineal con el objetivo de predecir el número de runs en función del número de bateos del equipo."
   ]
  },
  {
   "cell_type": "code",
   "execution_count": 5,
   "metadata": {},
   "outputs": [
    {
     "name": "stdout",
     "output_type": "stream",
     "text": [
      "Coeficiente de correlación de Pearson: 0.6106270467206687\n",
      "P-value:  0.0003388351359791978\n"
     ]
    }
   ],
   "source": [
    "# Correlación lineal \n",
    "corr_test = pearsonr(x = datos['bateos'], y =  datos['runs'])\n",
    "print('Coeficiente de correlación de Pearson:' , corr_test[0])\n",
    "print('P-value: ' , corr_test[1] ) "
   ]
  },
  {
   "cell_type": "markdown",
   "metadata": {},
   "source": [
    "### Ajuste del modelo\n",
    "\n",
    "Se realiza el ajuste de un modelo empleando como variable respuesta runs y como predictor bateos. Como en todo estudio predictivo, no solo es importante ajustar el modelo, sino también cuantificar su capacidad para predecir nuevas observaciones. Para poder hacer esta evaluación, se dividen los datos en dos grupos, uno de entrenamiento y otro de test."
   ]
  },
  {
   "cell_type": "code",
   "execution_count": 6,
   "metadata": {},
   "outputs": [
    {
     "name": "stdout",
     "output_type": "stream",
     "text": [
      "                            OLS Regression Results                            \n",
      "==============================================================================\n",
      "Dep. Variable:                      y   R-squared:                       0.271\n",
      "Model:                            OLS   Adj. R-squared:                  0.238\n",
      "Method:                 Least Squares   F-statistic:                     8.191\n",
      "Date:                Sat, 13 Mar 2021   Prob (F-statistic):            0.00906\n",
      "Time:                        20:42:30   Log-Likelihood:                -134.71\n",
      "No. Observations:                  24   AIC:                             273.4\n",
      "Df Residuals:                      22   BIC:                             275.8\n",
      "Df Model:                           1                                         \n",
      "Covariance Type:            nonrobust                                         \n",
      "==============================================================================\n",
      "                 coef    std err          t      P>|t|      [0.025      0.975]\n",
      "------------------------------------------------------------------------------\n",
      "const      -2367.7028   1066.357     -2.220      0.037   -4579.192    -156.214\n",
      "x1             0.5529      0.193      2.862      0.009       0.152       0.953\n",
      "==============================================================================\n",
      "Omnibus:                        5.033   Durbin-Watson:                   1.902\n",
      "Prob(Omnibus):                  0.081   Jarque-Bera (JB):                3.170\n",
      "Skew:                           0.829   Prob(JB):                        0.205\n",
      "Kurtosis:                       3.650   Cond. No.                     4.17e+05\n",
      "==============================================================================\n",
      "\n",
      "Warnings:\n",
      "[1] Standard Errors assume that the covariance matrix of the errors is correctly specified.\n",
      "[2] The condition number is large, 4.17e+05. This might indicate that there are\n",
      "strong multicollinearity or other numerical problems.\n"
     ]
    }
   ],
   "source": [
    "#División de los datos \n",
    "\n",
    "X = datos[['bateos']]\n",
    "Y = datos['runs']\n",
    "\n",
    "X_train, X_test, Y_train, Y_test = train_test_split(X.values.reshape(-1,1),\n",
    "                                                   Y.values.reshape(-1,1),\n",
    "                                                   train_size = 0.8,\n",
    "                                                   random_state = 1234,\n",
    "                                                   shuffle = True)\n",
    "# Creación del modelo.\n",
    "\n",
    "X_train = sm.add_constant(X_train, prepend=True)\n",
    "modelo = sm.OLS(endog=Y_train, exog=X_train,)\n",
    "modelo = modelo.fit()\n",
    "print(modelo.summary())\n"
   ]
  },
  {
   "cell_type": "markdown",
   "metadata": {},
   "source": [
    "## Predicción \n",
    "Una vez entrenado el modelo, se pueden obtener predicciones para nuevos datos. Los modelos de statsmodels permiten calcular las predicciones de dos formas:\n",
    "\n",
    "* __.predict():__ devuelve únicamente el valor de las predicciones.\n",
    "\n",
    "* __.get_prediction().summary_frame()__: devuelve, además de las predicciones, los intervalos de confianza asociados."
   ]
  },
  {
   "cell_type": "code",
   "execution_count": 7,
   "metadata": {},
   "outputs": [
    {
     "data": {
      "text/html": [
       "<div>\n",
       "<style scoped>\n",
       "    .dataframe tbody tr th:only-of-type {\n",
       "        vertical-align: middle;\n",
       "    }\n",
       "\n",
       "    .dataframe tbody tr th {\n",
       "        vertical-align: top;\n",
       "    }\n",
       "\n",
       "    .dataframe thead th {\n",
       "        text-align: right;\n",
       "    }\n",
       "</style>\n",
       "<table border=\"1\" class=\"dataframe\">\n",
       "  <thead>\n",
       "    <tr style=\"text-align: right;\">\n",
       "      <th></th>\n",
       "      <th>mean</th>\n",
       "      <th>mean_se</th>\n",
       "      <th>mean_ci_lower</th>\n",
       "      <th>mean_ci_upper</th>\n",
       "      <th>obs_ci_lower</th>\n",
       "      <th>obs_ci_upper</th>\n",
       "    </tr>\n",
       "  </thead>\n",
       "  <tbody>\n",
       "    <tr>\n",
       "      <th>0</th>\n",
       "      <td>768.183475</td>\n",
       "      <td>32.658268</td>\n",
       "      <td>700.454374</td>\n",
       "      <td>835.912577</td>\n",
       "      <td>609.456054</td>\n",
       "      <td>926.910897</td>\n",
       "    </tr>\n",
       "    <tr>\n",
       "      <th>1</th>\n",
       "      <td>646.551778</td>\n",
       "      <td>19.237651</td>\n",
       "      <td>606.655332</td>\n",
       "      <td>686.448224</td>\n",
       "      <td>497.558860</td>\n",
       "      <td>795.544695</td>\n",
       "    </tr>\n",
       "    <tr>\n",
       "      <th>2</th>\n",
       "      <td>680.276930</td>\n",
       "      <td>14.186441</td>\n",
       "      <td>650.856053</td>\n",
       "      <td>709.697807</td>\n",
       "      <td>533.741095</td>\n",
       "      <td>826.812765</td>\n",
       "    </tr>\n",
       "    <tr>\n",
       "      <th>3</th>\n",
       "      <td>735.011194</td>\n",
       "      <td>22.767596</td>\n",
       "      <td>687.794091</td>\n",
       "      <td>782.228298</td>\n",
       "      <td>583.893300</td>\n",
       "      <td>886.129088</td>\n",
       "    </tr>\n",
       "  </tbody>\n",
       "</table>\n",
       "</div>"
      ],
      "text/plain": [
       "         mean    mean_se  mean_ci_lower  mean_ci_upper  obs_ci_lower  \\\n",
       "0  768.183475  32.658268     700.454374     835.912577    609.456054   \n",
       "1  646.551778  19.237651     606.655332     686.448224    497.558860   \n",
       "2  680.276930  14.186441     650.856053     709.697807    533.741095   \n",
       "3  735.011194  22.767596     687.794091     782.228298    583.893300   \n",
       "\n",
       "   obs_ci_upper  \n",
       "0    926.910897  \n",
       "1    795.544695  \n",
       "2    826.812765  \n",
       "3    886.129088  "
      ]
     },
     "execution_count": 7,
     "metadata": {},
     "output_type": "execute_result"
    }
   ],
   "source": [
    "# Predicciones con intervalo de confianza del 95%\n",
    "# ==============================================================================\n",
    "predicciones = modelo.get_prediction(exog = X_train).summary_frame(alpha=0.05)\n",
    "predicciones.head(4)"
   ]
  },
  {
   "cell_type": "code",
   "execution_count": 8,
   "metadata": {},
   "outputs": [
    {
     "name": "stdout",
     "output_type": "stream",
     "text": [
      "\n",
      "El error (rmse) de test es: 59.33671608335924\n"
     ]
    }
   ],
   "source": [
    "# Error de test del modelo \n",
    "# ==============================================================================\n",
    "X_test = sm.add_constant(X_test, prepend=True)\n",
    "predicciones = modelo.predict(exog = X_test)\n",
    "rmse = mean_squared_error(\n",
    "        y_true  = Y_test,\n",
    "        y_pred  = predicciones,\n",
    "        squared = False\n",
    "       )\n",
    "print(\"\")\n",
    "print(f\"El error (rmse) de test es: {rmse}\")"
   ]
  },
  {
   "cell_type": "markdown",
   "metadata": {},
   "source": [
    "## Interpretación\n",
    "La columna (coef) devuelve el valor estimado para los dos parámetros de la ecuación del modelo lineal ( $\\beta_0$  y $\\beta_1$ ) que equivalen a el intercepto y a la pendiente. Se muestran también los errores estándar, el valor del estadístico t y el p-value (dos colas) de cada uno de los dos parámetros. Esto permite determinar si los predictores son significativamente distintos de 0, es decir, que tienen importancia en el modelo. Para el modelo generado, tanto la ordenada en el origen como la pendiente son significativas (p-values < 0.05).\n",
    "\n",
    "* El valor de R-squared indica que el modelo es capaz de explicar el 27.1% de la variabilidad observada en la variable respuesta (runs). Además, el p-value obtenido en el test F (Prob (F-statistic) = 0.00906) indica que sí hay evidencias de que la varianza explicada por el modelo es superior a la esperada por azar (varianza total).\n",
    "\n",
    "El modelo lineal generado sigue la ecuación:\n",
    "\n",
    "$runs = -2367.7028 + 0.6305 bateos$\n",
    " \n",
    "Por lo que se puede interpretar como: Por cada unidad que se incrementa el número de bateos, el número de runs aumenta en promedio 0.6305 unidades. Ademas el error de test del modelo es de 59.34. Las predicciones del modelo final se alejan en promedio 59.34 unidades del valor real.\n"
   ]
  },
  {
   "cell_type": "markdown",
   "metadata": {},
   "source": [
    "## Blibiografia utilizada.\n",
    "1. [Aplicación de la regresión lineal a un problema de pobreza ](http://www.zeuseduca.org/zeuseduca.org/fernando.infestas/Mag%C3%ADster%20en%20Econom%C3%ADa%20y%20Finanzas/Econometr%C3%ADa%C2%A0(MEF-113-115)/Ramoni%C2%A0Perazzi,%C2%A0Josefa/Semana%204/Ejemplo%20Aplicaci%C3%B3n%20Regresi%C3%B3n.pdf)\n",
    "2.  [Algunas notas históricas sobre la correlación y regresión y su uso en el aula  ](https://core.ac.uk/download/pdf/20343739.pdf)\n",
    "3.  [Regresión lineal con Python](https://www.cienciadedatos.net/documentos/py10-regresion-lineal-python.html#Interpretaci%C3%B3n-del-modelo)\n",
    "4. [Manual de Python](https://aprendeconalf.es/docencia/python/manual/)\n",
    "5. [Scikit-learn: Machine Learning in Python](https://www.jmlr.org/papers/v12/pedregosa11a.html)"
   ]
  }
 ],
 "metadata": {
  "kernelspec": {
   "display_name": "Python 3",
   "language": "python",
   "name": "python3"
  },
  "language_info": {
   "codemirror_mode": {
    "name": "ipython",
    "version": 3
   },
   "file_extension": ".py",
   "mimetype": "text/x-python",
   "name": "python",
   "nbconvert_exporter": "python",
   "pygments_lexer": "ipython3",
   "version": "3.8.3"
  }
 },
 "nbformat": 4,
 "nbformat_minor": 4
}
